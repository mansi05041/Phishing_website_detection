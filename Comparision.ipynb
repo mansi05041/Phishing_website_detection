{
 "cells": [
  {
   "cell_type": "code",
   "execution_count": 1,
   "id": "0ba1ff9a",
   "metadata": {},
   "outputs": [],
   "source": [
    "# importing the metrics of Decision tree\n",
    "%store -r DT_accuracy\n",
    "%store -r DT_precise\n",
    "%store -r DT_recall\n",
    "%store -r DT_f1Score"
   ]
  },
  {
   "cell_type": "code",
   "execution_count": 2,
   "id": "03c24c8e",
   "metadata": {},
   "outputs": [],
   "source": [
    "# importing the metrics of SVM\n",
    "%store -r svm_accuracy\n",
    "%store -r svm_precision\n",
    "%store -r svm_recall\n",
    "%store -r svm_f1"
   ]
  },
  {
   "cell_type": "code",
   "execution_count": 4,
   "id": "25d9f9fa",
   "metadata": {},
   "outputs": [],
   "source": [
    "# importing the metrics of Random forest\n",
    "%store -r RF_accuracy\n",
    "%store -r RF_precision\n",
    "%store -r RF_recall\n",
    "%store -r RF_f1"
   ]
  },
  {
   "cell_type": "code",
   "execution_count": null,
   "id": "b98884bb",
   "metadata": {},
   "outputs": [],
   "source": [
    "# importing the metrics of logistic Regression\n",
    "%store -r lr_accuracy\n",
    "%store -r lr_precision\n",
    "%store -r lr_recall\n",
    "%store -r lr_f1"
   ]
  },
  {
   "cell_type": "code",
   "execution_count": 17,
   "id": "811951b9",
   "metadata": {},
   "outputs": [],
   "source": [
    "# importing libraries\n",
    "import pandas as pd\n",
    "import matplotlib.pyplot as plt"
   ]
  },
  {
   "cell_type": "markdown",
   "id": "0d246755",
   "metadata": {},
   "source": [
    "# Preparing the data frame "
   ]
  },
  {
   "cell_type": "code",
   "execution_count": 6,
   "id": "67eebb6a",
   "metadata": {},
   "outputs": [],
   "source": [
    "# Define the data\n",
    "data = {\n",
    "    'Metrics': ['Accuracy', 'Precision', 'Recall', 'F1 Score'],\n",
    "    'Decision Tree': [DT_accuracy, DT_precise, DT_recall, DT_f1Score],\n",
    "    'SVM': [svm_accuracy, svm_precision, svm_recall, svm_f1],\n",
    "    'Random Forest': [RF_accuracy, RF_precision, RF_recall, RF_f1],\n",
    "    'Logistic Regression': [lr_accuracy, lr_precision, lr_recall, lr_f1]\n",
    "}"
   ]
  },
  {
   "cell_type": "code",
   "execution_count": 7,
   "id": "282e5020",
   "metadata": {},
   "outputs": [],
   "source": [
    "# Create the DataFrame\n",
    "df = pd.DataFrame(data)\n",
    "df.set_index('Metrics', inplace=True)"
   ]
  },
  {
   "cell_type": "code",
   "execution_count": 8,
   "id": "8ea0dfae",
   "metadata": {},
   "outputs": [
    {
     "name": "stdout",
     "output_type": "stream",
     "text": [
      "           Decision Tree       SVM  Random Forest\n",
      "Metrics                                          \n",
      "Accuracy        0.961500  0.935000       0.981000\n",
      "Precision       0.956778  0.919884       0.981964\n",
      "Recall          0.967229  0.953000       0.980000\n",
      "F1 Score        0.961975  0.934979       0.980981\n"
     ]
    }
   ],
   "source": [
    "# Display the DataFrame\n",
    "print(df)"
   ]
  },
  {
   "cell_type": "code",
   "execution_count": 15,
   "id": "bd8dff9a",
   "metadata": {},
   "outputs": [
    {
     "name": "stdout",
     "output_type": "stream",
     "text": [
      "Index(['Decision Tree', 'SVM', 'Random Forest'], dtype='object')\n"
     ]
    }
   ],
   "source": [
    "# getting columns\n",
    "model_names = df.columns\n",
    "print(model_names)"
   ]
  },
  {
   "cell_type": "markdown",
   "id": "6b623054",
   "metadata": {},
   "source": [
    "# Visualizing the data "
   ]
  },
  {
   "cell_type": "code",
   "execution_count": 32,
   "id": "cf52f96e",
   "metadata": {},
   "outputs": [
    {
     "data": {
      "image/png": "[encoded data removed]",
      "text/plain": [
       "<Figure size 864x576 with 4 Axes>"
      ]
     },
     "metadata": {
      "needs_background": "light"
     },
     "output_type": "display_data"
    }
   ],
   "source": [
    "# Set the figure size\n",
    "plt.figure(figsize=(12, 8))\n",
    "\n",
    "# Plot the Accuracy metric\n",
    "plt.subplot(2, 2, 1)\n",
    "plt.bar(model_names, df.loc['Accuracy'])\n",
    "plt.title('Accuracy')\n",
    "plt.ylabel('Value')\n",
    "# Annotate the values\n",
    "for i, value in enumerate(df.loc['Accuracy']):\n",
    "    plt.text(i, value, f'{value:.3f}', ha='center', va='bottom')\n",
    "\n",
    "# Plot the Precision metric\n",
    "plt.subplot(2, 2, 2)\n",
    "plt.bar(model_names, df.loc['Precision'])\n",
    "plt.title('Precision')\n",
    "plt.ylabel('Value')\n",
    "# Annotate the values\n",
    "for i, value in enumerate(df.loc['Precision']):\n",
    "    plt.text(i, value, f'{value:.3f}', ha='center', va='bottom')\n",
    "\n",
    "# Plot the Recall metric\n",
    "plt.subplot(2, 2, 3)\n",
    "plt.bar(model_names, df.loc['Recall'])\n",
    "plt.title('Recall')\n",
    "plt.ylabel('Value')\n",
    "# Annotate the values\n",
    "for i, value in enumerate(df.loc['Recall']):\n",
    "    plt.text(i, value, f'{value:.3f}', ha='center', va='bottom')\n",
    "\n",
    "# Plot the F1 Score metric\n",
    "plt.subplot(2, 2, 4)\n",
    "plt.bar(model_names, df.loc['F1 Score'])\n",
    "plt.title('F1 Score')\n",
    "plt.ylabel('Value')\n",
    "# Annotate the values\n",
    "for i, value in enumerate(df.loc['F1 Score']):\n",
    "    plt.text(i, value, f'{value:.3f}', ha='center', va='bottom')\n",
    "\n",
    "# Adjust the layout\n",
    "plt.tight_layout()\n",
    "\n",
    "# Show the plots\n",
    "plt.show()"
   ]
  },
  {
   "cell_type": "raw",
   "id": "981a96c7",
   "metadata": {},
   "source": [
    "From the above observation we can conclude that Random Forest has highest accuracy, f1 score, precision and recall score than other models."
   ]
  }
 ],
 "metadata": {
  "kernelspec": {
   "display_name": "Python 3 (ipykernel)",
   "language": "python",
   "name": "python3"
  },
  "language_info": {
   "codemirror_mode": {
    "name": "ipython",
    "version": 3
   },
   "file_extension": ".py",
   "mimetype": "text/x-python",
   "name": "python",
   "nbconvert_exporter": "python",
   "pygments_lexer": "ipython3",
   "version": "3.9.12"
  }
 },
 "nbformat": 4,
 "nbformat_minor": 5
}
