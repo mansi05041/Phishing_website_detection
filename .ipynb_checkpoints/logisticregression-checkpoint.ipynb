{
 "cells": [
  {
   "cell_type": "markdown",
   "id": "baf9bef6",
   "metadata": {},
   "source": [
    "# LOGISTIC REGRESSON"
   ]
  },
  {
   "cell_type": "code",
   "execution_count": 1,
   "id": "763fa8cc",
   "metadata": {},
   "outputs": [],
   "source": [
    "# importing variables from pre processing\n",
    "%store -r X_train\n",
    "%store -r X_test\n",
    "%store -r y_train\n",
    "%store -r y_test\n",
    "%store -r label"
   ]
  },
  {
   "cell_type": "code",
   "execution_count": 2,
   "id": "8976b512",
   "metadata": {},
   "outputs": [],
   "source": [
    "from sklearn.linear_model import LogisticRegression\n",
    "from sklearn.metrics import accuracy_score, precision_score, recall_score, f1_score\n"
   ]
  },
  {
   "cell_type": "code",
   "execution_count": 3,
   "id": "b33092d3",
   "metadata": {},
   "outputs": [],
   "source": [
    "# importing libraries\n",
    "import matplotlib.pyplot as plt"
   ]
  },
  {
   "cell_type": "markdown",
   "id": "28a4e068",
   "metadata": {},
   "source": [
    "# TRAINING THE MODEL"
   ]
  },
  {
   "cell_type": "code",
   "execution_count": 4,
   "id": "1393afdd",
   "metadata": {},
   "outputs": [
    {
     "data": {
      "text/plain": [
       "LogisticRegression(max_iter=10000)"
      ]
     },
     "execution_count": 4,
     "metadata": {},
     "output_type": "execute_result"
    }
   ],
   "source": [
    "lr = LogisticRegression(max_iter=10000)\n",
    "lr.fit(X_train, y_train)"
   ]
  },
  {
   "cell_type": "code",
   "execution_count": 5,
   "id": "61a3dd13",
   "metadata": {},
   "outputs": [],
   "source": [
    "y_pred = lr.predict(X_test)"
   ]
  },
  {
   "cell_type": "markdown",
   "id": "cfa67b32",
   "metadata": {},
   "source": [
    "# EVALUATION OF MODEL"
   ]
  },
  {
   "cell_type": "code",
   "execution_count": 6,
   "id": "c18b0b39",
   "metadata": {},
   "outputs": [
    {
     "name": "stdout",
     "output_type": "stream",
     "text": [
      "F1-score of logistic regression:  0.9354361754558896\n"
     ]
    }
   ],
   "source": [
    "# calculate f1 score\n",
    "lr_f1 = f1_score(y_test, y_pred)\n",
    "print(\"F1-score of logistic regression: \",lr_f1)"
   ]
  },
  {
   "cell_type": "code",
   "execution_count": 7,
   "id": "5670d463",
   "metadata": {},
   "outputs": [
    {
     "name": "stdout",
     "output_type": "stream",
     "text": [
      "Accuracy of logistic regression :  0.9345\n"
     ]
    }
   ],
   "source": [
    "# calculate accuraccy\n",
    "lr_accuracy = accuracy_score(y_test,y_pred)\n",
    "print(\"Accuracy of logistic regression : \",lr_accuracy)"
   ]
  },
  {
   "cell_type": "code",
   "execution_count": 8,
   "id": "1143525f",
   "metadata": {},
   "outputs": [
    {
     "name": "stdout",
     "output_type": "stream",
     "text": [
      "Precision of logistic regression:  0.9222546161321672\n"
     ]
    }
   ],
   "source": [
    "# calculate precision\n",
    "lr_precision = precision_score(y_test,y_pred)\n",
    "print(\"Precision of logistic regression: \",lr_precision)"
   ]
  },
  {
   "cell_type": "code",
   "execution_count": 9,
   "id": "b00a0055",
   "metadata": {},
   "outputs": [
    {
     "ename": "NameError",
     "evalue": "name 'roc_curve' is not defined",
     "output_type": "error",
     "traceback": [
      "\u001b[1;31m---------------------------------------------------------------------------\u001b[0m",
      "\u001b[1;31mNameError\u001b[0m                                 Traceback (most recent call last)",
      "Input \u001b[1;32mIn [9]\u001b[0m, in \u001b[0;36m<cell line: 8>\u001b[1;34m()\u001b[0m\n\u001b[0;32m      6\u001b[0m roc_auc \u001b[38;5;241m=\u001b[39m \u001b[38;5;28mdict\u001b[39m()\n\u001b[0;32m      8\u001b[0m \u001b[38;5;28;01mfor\u001b[39;00m i \u001b[38;5;129;01min\u001b[39;00m \u001b[38;5;28mrange\u001b[39m(\u001b[38;5;28mlen\u001b[39m(label)):\n\u001b[1;32m----> 9\u001b[0m     fpr[i], tpr[i], _ \u001b[38;5;241m=\u001b[39m \u001b[43mroc_curve\u001b[49m(y_test,y_pred)\n\u001b[0;32m     10\u001b[0m     roc_auc[i]\u001b[38;5;241m=\u001b[39mauc(fpr[i],tpr[i])\n\u001b[0;32m     12\u001b[0m \u001b[38;5;66;03m# plot the Roc curve for each class\u001b[39;00m\n",
      "\u001b[1;31mNameError\u001b[0m: name 'roc_curve' is not defined"
     ]
    }
   ],
   "source": [
    "# Evaluate the roc\n",
    "\n",
    "# compute the ROC curve and AUC for each class\n",
    "fpr = dict()\n",
    "tpr = dict()\n",
    "roc_auc = dict()\n",
    "\n",
    "for i in range(len(label)):\n",
    "    fpr[i], tpr[i], _ = roc_curve(y_test,y_pred)\n",
    "    roc_auc[i]=auc(fpr[i],tpr[i])\n",
    "\n",
    "# plot the Roc curve for each class\n",
    "plt.figure(figsize=(8,6))\n",
    "for i in range(len(label)):\n",
    "    plt.plot(fpr[i],tpr[i], label='ROC curve (AUC = %0.2f)' % roc_auc[i])\n",
    "plt.plot([0,1],[0,1],color='navy',linestyle='--')\n",
    "plt.xlabel('False Positive rate')\n",
    "plt.ylabel('True Positive rate')\n",
    "plt.title('ROC')\n",
    "plt.legend(loc=\"lower right\")\n",
    "plt.show()"
   ]
  },
  {
   "cell_type": "code",
   "execution_count": null,
   "id": "1fb254e0",
   "metadata": {},
   "outputs": [],
   "source": [
    "# confusion matrix\n",
    "cm = confusion_matrix(y_test,y_pred)"
   ]
  },
  {
   "cell_type": "code",
   "execution_count": null,
   "id": "15018524",
   "metadata": {},
   "outputs": [],
   "source": [
    "cm_display = ConfusionMatrixDisplay(confusion_matrix = cm, display_labels=label)\n",
    "cm_display.plot()\n",
    "plt.title('Confusion Matrix')\n",
    "plt.show()"
   ]
  },
  {
   "cell_type": "code",
   "execution_count": null,
   "id": "09f74f87",
   "metadata": {},
   "outputs": [],
   "source": [
    "# saving the metrics for comparision\n",
    "%store lr_accuracy\n",
    "%store lr_precision\n",
    "%store lr_recall\n",
    "%store lr_f1"
   ]
  }
 ],
 "metadata": {
  "kernelspec": {
   "display_name": "Python 3 (ipykernel)",
   "language": "python",
   "name": "python3"
  },
  "language_info": {
   "codemirror_mode": {
    "name": "ipython",
    "version": 3
   },
   "file_extension": ".py",
   "mimetype": "text/x-python",
   "name": "python",
   "nbconvert_exporter": "python",
   "pygments_lexer": "ipython3",
   "version": "3.9.12"
  }
 },
 "nbformat": 4,
 "nbformat_minor": 5
}
